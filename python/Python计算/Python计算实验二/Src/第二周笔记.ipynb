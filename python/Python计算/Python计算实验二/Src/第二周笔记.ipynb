{
 "cells": [
  {
   "attachments": {},
   "cell_type": "markdown",
   "metadata": {},
   "source": [
    "# 第二周笔记\n",
    "## 列表特性"
   ]
  },
  {
   "cell_type": "code",
   "execution_count": 1,
   "metadata": {},
   "outputs": [
    {
     "name": "stdout",
     "output_type": "stream",
     "text": [
      "True\n",
      "False\n"
     ]
    }
   ],
   "source": [
    "a = [1, 2, 3, 'abcde', ['a', 'b']]\n",
    "b = a # 引用\n",
    "print(a is b)\n",
    "d = a[::] # 浅拷贝\n",
    "print(d is a)\n",
    "a.append(5)\n",
    "a[3] = 'abc'\n",
    "a[4].append('c')"
   ]
  },
  {
   "cell_type": "code",
   "execution_count": 14,
   "metadata": {},
   "outputs": [
    {
     "name": "stdout",
     "output_type": "stream",
     "text": [
      "[1, 2, 3, 'abc', ['a', 'b', 'c'], 5]\n",
      "[1, 2, 3, 'abc', ['a', 'b', 'c'], 5]\n",
      "[1, 2, 3, 'abcde', ['a', 'b', 'c']]\n"
     ]
    }
   ],
   "source": [
    "print(a)\n",
    "print(b)\n",
    "print(d)"
   ]
  },
  {
   "attachments": {},
   "cell_type": "markdown",
   "metadata": {},
   "source": [
    "## `reversed()`方法特性"
   ]
  },
  {
   "cell_type": "code",
   "execution_count": 15,
   "metadata": {},
   "outputs": [
    {
     "name": "stdout",
     "output_type": "stream",
     "text": [
      "<list_reverseiterator object at 0x7fb0e8f6c670>\n",
      "[5, ['a', 'b', 'c'], 'abc', 3, 2, 1]\n",
      "5 ['a', 'b', 'c'] abc 3 2 1 "
     ]
    }
   ],
   "source": [
    "newlist = reversed(a)\n",
    "# print(list(newlist))\n",
    "print(newlist)\n",
    "newlist2 = list(newlist)\n",
    "print(newlist2)\n",
    "for i in newlist2:\n",
    "    print(i, end=\" \")"
   ]
  },
  {
   "attachments": {},
   "cell_type": "markdown",
   "metadata": {},
   "source": [
    "`reversed()`方法返回值为列表迭代器\n",
    "迭代器生命从周期只有一次，指针不会回退，使用过后不可在此使用"
   ]
  },
  {
   "attachments": {},
   "cell_type": "markdown",
   "metadata": {},
   "source": [
    "## `zip()`方法&`enumerate()`方法"
   ]
  },
  {
   "cell_type": "code",
   "execution_count": 61,
   "metadata": {},
   "outputs": [
    {
     "name": "stdout",
     "output_type": "stream",
     "text": [
      "<zip object at 0x7fb0e8f84f80>\n"
     ]
    }
   ],
   "source": [
    "a = [1, 2, 3]\n",
    "b = [2, 4, 6]\n",
    "c = [3, 6, 9]\n",
    "abczip = zip(a, b, c)\n",
    "print(abczip)"
   ]
  },
  {
   "attachments": {},
   "cell_type": "markdown",
   "metadata": {},
   "source": [
    "返回值为一个zip对象(python3)"
   ]
  },
  {
   "cell_type": "code",
   "execution_count": 62,
   "metadata": {},
   "outputs": [
    {
     "name": "stdout",
     "output_type": "stream",
     "text": [
      "<zip object at 0x7fb0e8f84f80>\n",
      "<enumerate object at 0x7fb0e9265b00>\n",
      "(0, (1, 2, 3))\n",
      "(1, (2, 4, 6))\n",
      "(2, (3, 6, 9))\n"
     ]
    }
   ],
   "source": [
    "alist = enumerate(abczip)\n",
    "print(abczip)\n",
    "print(alist)\n",
    "for i in alist:\n",
    "    print(i)\n",
    "# enumerate()类型返回值为迭代器\n",
    "for i in alist:\n",
    "    print(i)\n",
    "# 没有输出"
   ]
  },
  {
   "attachments": {},
   "cell_type": "markdown",
   "metadata": {},
   "source": [
    "返回值为一个enumerate对象(python3)\n",
    "\n",
    "通常以如下方法使用:"
   ]
  },
  {
   "cell_type": "code",
   "execution_count": 34,
   "metadata": {},
   "outputs": [
    {
     "name": "stdout",
     "output_type": "stream",
     "text": [
      "(1, 2, 3)\n",
      "(2, 4, 6)\n",
      "(3, 6, 9)\n"
     ]
    }
   ],
   "source": [
    "for i, e in enumerate(abczip):\n",
    "    print(e)"
   ]
  },
  {
   "attachments": {},
   "cell_type": "markdown",
   "metadata": {},
   "source": [
    "需要注意的是，enumerate对象是一个迭代器，不能反复使用"
   ]
  },
  {
   "attachments": {},
   "cell_type": "markdown",
   "metadata": {},
   "source": [
    "## 列表生成器"
   ]
  },
  {
   "cell_type": "code",
   "execution_count": 67,
   "metadata": {},
   "outputs": [
    {
     "name": "stdout",
     "output_type": "stream",
     "text": [
      "[2,\n",
      " 3,\n",
      " 5,\n",
      " 7,\n",
      " 11,\n",
      " 13,\n",
      " 17,\n",
      " 19,\n",
      " 23,\n",
      " 29,\n",
      " 31,\n",
      " 37,\n",
      " 41,\n",
      " 43,\n",
      " 47,\n",
      " 53,\n",
      " 59,\n",
      " 61,\n",
      " 67,\n",
      " 71,\n",
      " 73,\n",
      " 79,\n",
      " 83,\n",
      " 89,\n",
      " 97]\n"
     ]
    }
   ],
   "source": [
    "def func7():\n",
    "    import math\n",
    "    from pprint import pprint \n",
    "    aList = [p for p in range(2, 100) if 0 not in [p % d for d in range(2, int(math.sqrt(p)) + 1)]]\n",
    "    pprint(aList)\n",
    "\n",
    "func7() # 素数生成器"
   ]
  },
  {
   "attachments": {},
   "cell_type": "markdown",
   "metadata": {},
   "source": [
    "Python计算pre要求：\n",
    "时间：7-10周\n",
    "主题征集：本周五前（4.7），有意向自定题目的小组可以向曹瑞玲同学报备\n",
    "正式选题：下周三（4.12）上机课\n",
    "Pre内容要求：对于选题的相关内容作较详细的分析与介绍（以介绍为主），要求能作为学习指导，使其他同学学习该选题时能有合理的学习顺序与侧重"
   ]
  }
 ],
 "metadata": {
  "kernelspec": {
   "display_name": "base",
   "language": "python",
   "name": "python3"
  },
  "language_info": {
   "codemirror_mode": {
    "name": "ipython",
    "version": 3
   },
   "file_extension": ".py",
   "mimetype": "text/x-python",
   "name": "python",
   "nbconvert_exporter": "python",
   "pygments_lexer": "ipython3",
   "version": "3.9.13"
  },
  "orig_nbformat": 4
 },
 "nbformat": 4,
 "nbformat_minor": 2
}
