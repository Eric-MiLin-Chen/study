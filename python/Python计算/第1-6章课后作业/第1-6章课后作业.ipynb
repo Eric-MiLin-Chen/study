{
 "cells": [
  {
   "cell_type": "markdown",
   "metadata": {},
   "source": [
    "# 第1-6章课后作业\n",
    "## 第一章\n",
    "1. 简单说明如何选择正确的Python版本。\n",
    "    \n",
    "    选择Python版本时应根据自己的需求和必须的扩展库支持的版本决定\n",
    "\n",
    "2. 为什么说Python采用的是基于值的内存管理模式？\n",
    "\n",
    "    不同变量赋相同值时享用同一内存空间"
   ]
  },
  {
   "cell_type": "code",
   "execution_count": 126,
   "metadata": {},
   "outputs": [
    {
     "name": "stdout",
     "output_type": "stream",
     "text": [
      "True\n"
     ]
    }
   ],
   "source": [
    "a = 1\n",
    "b = 1\n",
    "print(id(a) == id(b))"
   ]
  },
  {
   "attachments": {},
   "cell_type": "markdown",
   "metadata": {},
   "source": [
    "3. 解释Python中的运算符 `/` 和 `//` 的区别\n",
    "\n",
    "    `/` 为普通的浮点数除法，`//` 为整除\n",
    "\n",
    "4. 在Python中导入模块中的对象有哪几种方式？\n",
    "\n",
    "    `import 模块名 (as 别名)`\n",
    "\n",
    "    `from 模块名 import 模块名/函数名/* (as 别名)`\n",
    "\n",
    "5. <u>Conda 和 PyPI</u> 是目前比较常用的Python扩展库管理工具\n",
    "\n",
    "6. 解释Python脚本程序的`__name__`变量及其作用。\n",
    "\n",
    "    Python的`__name__`变量储存当前运行的Python脚本或模块的名称，直接执行一段脚本的时候，这段脚本的`__name__`变量等于`main`，当这段脚本被导入其他程序的时候，`__name__`变量等于脚本本身的名字\n",
    "\n",
    "7. 运算符<u>可以</u>对浮点数进行求与树操作。\n",
    "8. 一个数字5<u>是</u>合法的Python表达式。\n",
    "9. 在Python 2.x中，`input()`函数接收到的数据类型由<u>输入的内容</u>，而在Python 3.x中概函数则认为接收到的用户输入数据一律为<u>`str`</u>\n",
    "10. 编写程序，用户输入一个三位以上的整数，输出其百位以上的数字。例如用户输入`1234`，则程序输入`12`（提示：使用整除运算）"
   ]
  },
  {
   "cell_type": "code",
   "execution_count": 166,
   "metadata": {},
   "outputs": [
    {
     "name": "stdout",
     "output_type": "stream",
     "text": [
      "12\n"
     ]
    }
   ],
   "source": [
    "# input 1234\n",
    "print(int(input(\"请输入一个三位以上的整数：\")) // 100)"
   ]
  },
  {
   "cell_type": "markdown",
   "metadata": {},
   "source": [
    "## 第二章\n",
    "\n",
    "1. 为什么应尽量从列表的尾部进行元素的增加与删除操作？\n",
    "\n",
    "    因为Python中的列表底层是数组，因此尾部操作效率更高\n",
    "\n",
    "2. `range()`函数在Python 2.x中返回一个<u>列表</u>，而Python 3.x的range()函数返回一个<u>迭代器</u>\n",
    "\n",
    "3. 编写程序，生成包含1000个0～100之间的随机整数，并统计每个元素的出现次数。"
   ]
  },
  {
   "cell_type": "code",
   "execution_count": null,
   "metadata": {},
   "outputs": [
    {
     "data": {
      "image/png": "[encoded data removed]",
      "text/plain": [
       "<Figure size 640x480 with 1 Axes>"
      ]
     },
     "metadata": {},
     "output_type": "display_data"
    }
   ],
   "source": [
    "import random\n",
    "from matplotlib import pyplot as plt\n",
    "\n",
    "nums = [random.randint(0, 100) for i in range(1000)]\n",
    "x_data = [i for i in range(101)]\n",
    "y_data = count = [0 for i in range(101)]\n",
    "\n",
    "for i in nums:\n",
    "    count[i] += 1\n",
    "\n",
    "plt.rcParams['font.sans-serif'] = ['Arial Unicode MS']\n",
    "plt.rcParams['axes.unicode_minus']=False\n",
    "\n",
    "# 画图，plt.bar()可以画柱状图\n",
    "for i in range(len(x_data)):\n",
    "    colors = str(hex(0xFFFFFF // 101 * (i + 1)))[2:]\n",
    "    colors = \"#\" + (\"0\" if len(colors) < 6 else \"\") + colors\n",
    "    plt.bar(x_data[i], y_data[i], color = colors)\n",
    "# 设置图片名称\n",
    "plt.title(\"随机数频数统计\")\n",
    "# 设置x轴标签名\n",
    "plt.xlabel(\"数字\")\n",
    "# 设置y轴标签名\n",
    "plt.ylabel(\"出现次数\")\n",
    "# 显示\n",
    "plt.show()"
   ]
  },
  {
   "cell_type": "markdown",
   "metadata": {},
   "source": [
    "4. 表达式“`[3] in [1, 2, 3, 4]`”的值为<u>False</u>\n",
    "\n",
    "5. 编写程序，用户输入一个列表和2个整数作为下标，然后输出列表中介于2个下标之间的元素组成的字列表。例如用户输入`[1, 2, 3, 4, 5, 6]`和`2, 5`，程序输出`[3, 4, 5, 6]`。"
   ]
  },
  {
   "cell_type": "code",
   "execution_count": null,
   "metadata": {},
   "outputs": [
    {
     "name": "stdout",
     "output_type": "stream",
     "text": [
      "[3, 4, 5, 6]\n"
     ]
    }
   ],
   "source": [
    "# input: [1, 2, 3, 4, 5, 6] 2 5\n",
    "nums = eval(input('list: '))\n",
    "minimum = int(input('minimum: '))\n",
    "maximum = int(input('maximum: '))\n",
    "print(nums[minimum : maximum + 1])"
   ]
  },
  {
   "cell_type": "markdown",
   "metadata": {},
   "source": [
    "6. 列表对象的`sort()`方法用来对列表元素进行原地排序，该函数返回值为<u>`NoneType`</u>"
   ]
  },
  {
   "cell_type": "code",
   "execution_count": null,
   "metadata": {},
   "outputs": [
    {
     "name": "stdout",
     "output_type": "stream",
     "text": [
      "<class 'NoneType'>\n"
     ]
    }
   ],
   "source": [
    "a = [1, 2, 3, 4, 5, 6]\n",
    "print(type(a.sort()))"
   ]
  },
  {
   "cell_type": "markdown",
   "metadata": {},
   "source": [
    "7. 列表对象的<u>`remove()`</u>方法删除首次出现的制定元素，如果列表中不存在要删除的元素，则抛出异常。\n",
    "\n",
    "8. 假设列表对象`aList`的值为`[3, 4, 5, 6, 7, 9, 11, 13, 15, 17]`，那么切片`aList[3:7]`得到<u>`[6, 7, 9, 11]`</u>\n",
    "\n",
    "9. 设计一个字典，并编写程序，用户输入内容作为“键”，然后输出字典中对应的“值”，如果用户输入的“键”不存在，则输出“您输入的键不存在！”。"
   ]
  },
  {
   "cell_type": "code",
   "execution_count": null,
   "metadata": {},
   "outputs": [
    {
     "name": "stdout",
     "output_type": "stream",
     "text": [
      "key: a\n",
      "val: 1\n",
      "\n",
      "key: b\n",
      "val: 2\n",
      "\n",
      "key: c\n",
      "val: 3\n",
      "\n",
      "key: d\n",
      "您输入的键不存在！\n",
      "\n"
     ]
    }
   ],
   "source": [
    "dictionary = {\"a\" : 1, \"b\" : 2, \"c\" : 3}\n",
    "while True:\n",
    "    key = input(\"请输入键：\")\n",
    "    if key == \"\":\n",
    "        break\n",
    "    elif key in dictionary.keys():\n",
    "        print(\"key: %s\\nval: %d\\n\"%(key, dictionary[key]))\n",
    "    else:\n",
    "        print(\"key: %s\\n您输入的键不存在！\\n\"%key)\n"
   ]
  },
  {
   "cell_type": "markdown",
   "metadata": {},
   "source": [
    "10. 编写程序，生成包含20个随机数的列表，然后将前10个元素升序排列，后10个元素降序排列，并输出结果。"
   ]
  },
  {
   "cell_type": "code",
   "execution_count": null,
   "metadata": {},
   "outputs": [
    {
     "name": "stdout",
     "output_type": "stream",
     "text": [
      "[9, 13, 16, 16, 33, 43, 50, 75, 86, 98]\n",
      "[94, 82, 78, 70, 67, 49, 48, 31, 18, 1]\n"
     ]
    }
   ],
   "source": [
    "from random import randint\n",
    "\n",
    "nums = [randint(0, 100) for i in range(20)]\n",
    "front = nums[:10]\n",
    "front.sort()\n",
    "back = nums[10:]\n",
    "back.sort(reverse=True)\n",
    "\n",
    "print(front)\n",
    "print(back)"
   ]
  },
  {
   "cell_type": "markdown",
   "metadata": {},
   "source": [
    "11. 在Python中，字典和集合都是用一对<u>花括号</u>作为界定符，字典的每个元素有两部分组成，即<u>键</u>和<u>值</u>，其中<u>键</u>不允许重复。\n",
    "\n",
    "12. 使用字典对象的<u>items()</u>方法可以返回字典的“键-值对”列表，使用字典对象的<u>keys()</u>方法可以返回字典的“键”列表，使用字典对象的<u>values()</u>方法可以返回字典的“值”列表。\n",
    "\n",
    "13. 假设有列表`a = ['name', 'age', 'sex']`和`b = ['Dong', 38, 'Male']`，请使用一个语句将这两个列表的内容转化为字典，并且以列表`a`中的元素为“键”，以列表`b`中的元素为“值”，这个语句可以写为<u>`dict(zip(a, b))`</u>\n",
    "\n",
    "14. 假设有一个列表`a`，现要求从列表`a`中每3个元素取1个，并且将取到的元素组成新的列表`b`，可以使用语句<u>`b = a[::3]`</u>\n",
    "\n",
    "15. 使用列表推导式生成包含10个数字5的列表，语句可以写为<u>`[5 for i in range(10)]`</u>\n",
    "\n",
    "16. <u>可以</u>使用`del`命令来删除元组中的部分数据。"
   ]
  },
  {
   "cell_type": "markdown",
   "metadata": {},
   "source": [
    "## 第三章\n",
    "\n",
    "1. 分析逻辑运算符`or`的短路求值特性。\n",
    "\n",
    "    逻辑运算符`or`的短路求值特性：当`or`左边的表达式为`True`后，就不再计算右边的表达式，直接返回`True`。\n",
    "\n",
    "2. 编写程序，运行后用户输入4位整数作为年份，判断其是否为闰年。如果年份能被400整除，则为闰年；如果年份能被4整除但不能被100整除也为闰年。"
   ]
  },
  {
   "cell_type": "code",
   "execution_count": null,
   "metadata": {},
   "outputs": [
    {
     "name": "stdout",
     "output_type": "stream",
     "text": [
      "请输入年份(四位整数): 2000\n",
      "2000是闰年\n",
      "请输入年份(四位整数): 1900\n",
      "1900不是闰年\n",
      "请输入年份(四位整数): 2020\n",
      "2020是闰年\n",
      "请输入年份(四位整数): 2023\n",
      "2023不是闰年\n"
     ]
    }
   ],
   "source": [
    "for i in range(4):\n",
    "    year = int(input(\"请输入年份(四位整数): \"))\n",
    "    print(\"请输入年份(四位整数): %d\"%year)\n",
    "    if year % 400 == 0 or year % 4 == 0 and year % 100 != 0:\n",
    "        print(\"%s是闰年\"%year)\n",
    "    else:\n",
    "        print(\"%s不是闰年\"%year)"
   ]
  },
  {
   "cell_type": "markdown",
   "metadata": {},
   "source": [
    "3. Python提供了两种基本的循环结构：<u>`for`</u>和<u>`while`</u>\n",
    "\n",
    "4. 编写程序，生成一个包含50个随机整数的列表，然后删除其中所有奇数（提示：从后向前删）。"
   ]
  },
  {
   "cell_type": "code",
   "execution_count": null,
   "metadata": {},
   "outputs": [
    {
     "name": "stdout",
     "output_type": "stream",
     "text": [
      "[18, 22, 28, 2, 84, 72, 58, 42, 36, 14, 68, 100, 34, 30, 34, 70, 40, 96, 96, 86, 30, 90, 18, 88, 20, 0, 72]\n"
     ]
    }
   ],
   "source": [
    "from random import randint\n",
    "\n",
    "nums = [randint(0, 100) for i in range(50)]\n",
    "\n",
    "for i in range(len(nums) - 1, -1, -1):\n",
    "    if nums[i] % 2:\n",
    "        del nums[i]\n",
    "print(nums)"
   ]
  },
  {
   "attachments": {},
   "cell_type": "markdown",
   "metadata": {},
   "source": [
    "5. 编写程序，生成一个包含 $20$ 个随机整数的列表，然后对其中偶数下标的元素进行降序排列，奇数下标的元素不变（提示：使用切片）。"
   ]
  },
  {
   "cell_type": "code",
   "execution_count": null,
   "metadata": {},
   "outputs": [
    {
     "name": "stdout",
     "output_type": "stream",
     "text": [
      "[86, 41, 75, 49, 65, 17, 60, 35, 59, 9, 49, 10, 31, 92, 31, 66, 21, 86, 7, 45]\n"
     ]
    }
   ],
   "source": [
    "from random import randint\n",
    "\n",
    "nums = [randint(1, 100) for i in range(20)]\n",
    "nums_o = nums[::2]\n",
    "nums_o.sort(reverse=True)\n",
    "\n",
    "for i in range(10):\n",
    "    nums[i * 2] = nums_o[i]\n",
    "print(nums)"
   ]
  },
  {
   "attachments": {},
   "cell_type": "markdown",
   "metadata": {},
   "source": [
    "6. 编写程序，用户从键盘输入小于 $1000$ 的整数，对其进行因式分解。例如，$10 = 2 \\times 5$，$60 = 2 \\times 2 \\times 3 \\times 5$。"
   ]
  },
  {
   "cell_type": "code",
   "execution_count": 148,
   "metadata": {},
   "outputs": [
    {
     "name": "stdout",
     "output_type": "stream",
     "text": [
      "请输入小于1000的整数以因式分解: 60\n",
      "60 = 2 * 2 * 3 * 5\n"
     ]
    }
   ],
   "source": [
    "def IsPrime(num:'int > 0'):\n",
    "    if num <= 1:\n",
    "        return False\n",
    "    if num == 2 or num == 3:\n",
    "        return True\n",
    "    if num % 2 == 0:\n",
    "        return False\n",
    "    for i in range(3, int(num ** 0.5) + 1, 2):\n",
    "        if num % i == 0:\n",
    "            return False\n",
    "    return True\n",
    "\n",
    "def Factorization(num:'int > 0'):\n",
    "    temp = num\n",
    "    factors = []\n",
    "    min_factor = 2\n",
    "    if IsPrime(num) or num == 1:\n",
    "        factors.append(str(num))\n",
    "        temp /= num\n",
    "    while min_factor <= temp:\n",
    "        if temp % min_factor == 0:\n",
    "            factors.append(str(min_factor))\n",
    "            temp /= min_factor\n",
    "        else:\n",
    "            min_factor += 1 if min_factor == 2 else 2\n",
    "    print(\"%d = %s\"%(num, ' * '.join(factors)))\n",
    "\n",
    "\n",
    "num = int(input(\"请输入小于1000的整数以因式分解: \"))\n",
    "print(\"请输入小于1000的整数以因式分解: %d\"%num)\n",
    "Factorization(num)\n"
   ]
  },
  {
   "cell_type": "markdown",
   "metadata": {},
   "source": [
    "7. 编写程序，至少使用两种不同方法计算100以内所有奇数的和。"
   ]
  },
  {
   "cell_type": "code",
   "execution_count": null,
   "metadata": {},
   "outputs": [
    {
     "name": "stdout",
     "output_type": "stream",
     "text": [
      "2500 2500\n"
     ]
    }
   ],
   "source": [
    "ans1 = sum([i for i in range(1, 100, 2)])\n",
    "ans2 = int((1 + 99) * 50 / 2)\n",
    "print(\"%d %d\"%(ans1, ans2))"
   ]
  },
  {
   "cell_type": "markdown",
   "metadata": {},
   "source": [
    "8. 编写程序，输出所有由1、2、3、4这四个数字组成的素数，并且在每个素数种每个数字只使用一次。"
   ]
  },
  {
   "cell_type": "code",
   "execution_count": null,
   "metadata": {},
   "outputs": [
    {
     "name": "stdout",
     "output_type": "stream",
     "text": [
      "1423\n",
      "2143\n",
      "2341\n",
      "4231\n"
     ]
    }
   ],
   "source": [
    "import itertools\n",
    "from pprint import pprint\n",
    "\n",
    "def IsPrime(num:'int > 0'):\n",
    "    if num <= 1:\n",
    "        return False\n",
    "    if num == 2 or num == 3:\n",
    "        return True\n",
    "    if num % 2 == 0:\n",
    "        return False\n",
    "    for i in range(3, int(num ** 0.5) + 1, 2):\n",
    "        if num % i == 0:\n",
    "            return False\n",
    "    return True\n",
    "\n",
    "# 利用itertools库中的permutations函数,给定一个排列,输出他的全排列\n",
    "def allPermutation(src:\"list\"):\n",
    "    permutation = []\n",
    "    for i in range(len(src)):\n",
    "        permutation.append(src[i])\n",
    "    # itertools.permutations返回的只是一个对象,需要将其转化成list\n",
    "    # 每一种排列情况以元组类型存储\n",
    "    all_permutation = list(itertools.permutations(permutation))\n",
    "    return all_permutation\n",
    "\n",
    "nums = [1, 2, 3, 4]\n",
    "permutation = allPermutation([str(i) for i in nums])\n",
    "pnums = [int(''.join(i)) for i in permutation]\n",
    "for num in pnums:\n",
    "    if IsPrime(num):\n",
    "        print(num)\n"
   ]
  },
  {
   "cell_type": "markdown",
   "metadata": {},
   "source": [
    "9. 编写程序，实现分段函数计算，如表3-11111所示。\n",
    "\n",
    "    |      $x$       |    $y$     |\n",
    "    | :------------: | :--------: |\n",
    "    |    $x < 0$     |    $0$     |\n",
    "    | $0 \\le x < 5$  |    $x$     |\n",
    "    | $5 \\le x < 0$  |  $3x - 5$  |\n",
    "    | $10 \\le x <20$ | $0.5x - 2$ |\n",
    "    |   $20 \\le x$   |    $0$     |"
   ]
  },
  {
   "cell_type": "code",
   "execution_count": null,
   "metadata": {},
   "outputs": [
    {
     "name": "stdout",
     "output_type": "stream",
     "text": [
      "0\n",
      "2\n",
      "19\n",
      "5.5\n",
      "0\n"
     ]
    }
   ],
   "source": [
    "def func(x):\n",
    "    if x < 0:\n",
    "        return 0\n",
    "    if 0 <= x and x < 5:\n",
    "        return x\n",
    "    if 5 <= x and x < 10:\n",
    "        return 3 * x - 5\n",
    "    if 10 <= x and x < 20:\n",
    "        return 0.5 * x - 2\n",
    "    else:\n",
    "        return 0\n",
    "\n",
    "print(func(-1))\n",
    "print(func(2))\n",
    "print(func(8))\n",
    "print(func(15))\n",
    "print(func(25))"
   ]
  },
  {
   "cell_type": "markdown",
   "metadata": {},
   "source": [
    "## 第四章\n",
    "\n",
    "1. 假设有一段英文，其中有单独的字母I误写为i，请编写程序进行纠正。"
   ]
  },
  {
   "cell_type": "code",
   "execution_count": null,
   "metadata": {},
   "outputs": [
    {
     "name": "stdout",
     "output_type": "stream",
     "text": [
      "请输入一段英文：i believe i can fly.\n",
      "I believe I can fly.\n"
     ]
    }
   ],
   "source": [
    "import re\n",
    "# input: \"i believe i can fly.\"\n",
    "s = input(\"请输入一段英文：\")\n",
    "print(f\"请输入一段英文：{s}\")\n",
    "print(re.sub(r\"\\bi\\b\", \"I\", s))"
   ]
  },
  {
   "cell_type": "markdown",
   "metadata": {},
   "source": [
    "2. 假设有一段英文，其中有单词中间的字母i误写为I，请编写程序进行纠正。"
   ]
  },
  {
   "cell_type": "code",
   "execution_count": null,
   "metadata": {},
   "outputs": [
    {
     "name": "stdout",
     "output_type": "stream",
     "text": [
      "请输入一段英文：I belIeve I can fly.\n",
      "I believe I can fly.\n"
     ]
    }
   ],
   "source": [
    "import re\n",
    "# input: \"I belIeve I can fly.\"\n",
    "s = input(\"请输入一段英文：\")\n",
    "print(f\"请输入一段英文：{s}\")\n",
    "print(re.sub(r\"\\BI\\B\", \"i\", s))"
   ]
  },
  {
   "cell_type": "markdown",
   "metadata": {},
   "source": [
    "3. 有一段英文文本，其中有单词连续重复了2次，编写程序检查重复的单词并值保留一个。例如，文本内容为“This is is a desk.”，程序输出为“This is is a desk.”"
   ]
  },
  {
   "cell_type": "code",
   "execution_count": null,
   "metadata": {},
   "outputs": [
    {
     "name": "stdout",
     "output_type": "stream",
     "text": [
      "请输入一段英文：This is is a desk desk.\n",
      "This is a desk.\n"
     ]
    }
   ],
   "source": [
    "import re\n",
    "from pprint import pprint\n",
    "# input: \"This is is a desk desk.\"\n",
    "s = input(\"请输入一段英文：\")\n",
    "print(f\"请输入一段英文：{s}\")\n",
    "pattern = re.compile(r\"\\b(\\w+)(\\W+\\1)+\\b\")\n",
    "print(pattern.sub(r\"\\g<1>\", s))#网上找到的\\g，不清楚具体实现的原理"
   ]
  },
  {
   "cell_type": "markdown",
   "metadata": {},
   "source": [
    "4. 简单解释Python的字符串驻留机制\n",
    "\n",
    "    只保存一个相同且不可变的字符串,不同的值存储在字符串的停留池中。 python的停留机制只保留一份相同字符串的副本。\n",
    "    在后续创建相同的字符串时,不会开辟新的空间,而是将字符串的地址赋予新创建的变量。\n",
    "    需要注意的是，长字符串不遵守驻留机制。\n",
    "\n",
    "5. 编写程序，用户输入一段英文，然后输出这段英文中所有长度为3个字母的单词。"
   ]
  },
  {
   "cell_type": "code",
   "execution_count": 136,
   "metadata": {},
   "outputs": [
    {
     "name": "stdout",
     "output_type": "stream",
     "text": [
      "str: I belIeve I can fly.\n",
      "ans: can fly\n"
     ]
    }
   ],
   "source": [
    "import re\n",
    "# input: \"I belIeve I can fly.\"\n",
    "s = input(\"请输入一段英文：\")\n",
    "ans = re.findall(r\"\\b[A-Za-z]{3}\\b\", s)\n",
    "print(f\"str: {s}\")\n",
    "print(f\"ans: {' '.join(ans)}\")\n"
   ]
  },
  {
   "cell_type": "markdown",
   "metadata": {},
   "source": [
    "## 第五章\n",
    "1. 运行5.3.1节最后的事例代码，查看结果并分析原因。"
   ]
  },
  {
   "cell_type": "code",
   "execution_count": 140,
   "metadata": {},
   "outputs": [
    {
     "name": "stdout",
     "output_type": "stream",
     "text": [
      "[1, 2, 3, 4, '5']\n",
      "['a', 'b', 'aaa']\n",
      "['a']\n",
      "['a', 'b']\n"
     ]
    }
   ],
   "source": [
    "def old_demo(newitem, old_list = []):\n",
    "    old_list.append(newitem)\n",
    "    return old_list\n",
    "print(old_demo('5', [1, 2, 3, 4]))\n",
    "print(old_demo('aaa', ['a', 'b']))\n",
    "print(old_demo('a'))\n",
    "print(old_demo('b'))"
   ]
  },
  {
   "cell_type": "code",
   "execution_count": 138,
   "metadata": {},
   "outputs": [
    {
     "name": "stdout",
     "output_type": "stream",
     "text": [
      "[1, 2, 3, 4, '5']\n",
      "['a', 'b', 'aaa']\n",
      "['a']\n",
      "['b']\n"
     ]
    }
   ],
   "source": [
    "def new_demo(newitem, old_list = None):\n",
    "    if old_list == None:\n",
    "        old_list = []\n",
    "    old_list.append(newitem)\n",
    "    return old_list\n",
    "print(new_demo('5', [1, 2, 3, 4]))\n",
    "print(new_demo('aaa', ['a', 'b']))\n",
    "print(new_demo('a'))\n",
    "print(new_demo('b'))"
   ]
  },
  {
   "cell_type": "markdown",
   "metadata": {},
   "source": [
    "1. 原因：\n",
    "    \n",
    "    多次调用两数并且不为默认值参数传递值时,默认值参数只在第一次调用时进行解释，因此在首次调用old_demo：`print(old_demo('a'))`时，`old_list`被初始化为[]，其地址固定，后续对于`old_list`的修改都基于该地址，后续调用的过程中不会再次解释`old_list`，因此在`print(old_demo('b'))`时，`old_list = ['a']`，因此输出结果为`['a', 'b']`\n",
    "\n",
    "    而在`new_demo`中，`old_list`被初始化为`None`，在函数中被重新解释为空列表，因此当再次调用时，虽然`old_list`没有被重新解释，但其值仍指向`None`。"
   ]
  },
  {
   "cell_type": "markdown",
   "metadata": {},
   "source": [
    "2. 编写函数，判断一个整数是否为素数，饼编写主程序调用该函数。"
   ]
  },
  {
   "cell_type": "code",
   "execution_count": 151,
   "metadata": {},
   "outputs": [
    {
     "name": "stdout",
     "output_type": "stream",
     "text": [
      "True\n"
     ]
    }
   ],
   "source": [
    "def IsPrime(num:'int > 0'):\n",
    "    if num <= 1:\n",
    "        return False\n",
    "    if num == 2 or num == 3:\n",
    "        return True\n",
    "    if num % 2 == 0:\n",
    "        return False\n",
    "    for i in range(3, int(num ** 0.5) + 1, 2):\n",
    "        if num % i == 0:\n",
    "            return False\n",
    "    return True\n",
    "\n",
    "if __name__ == '__main__':\n",
    "    print(IsPrime(97))"
   ]
  },
  {
   "cell_type": "markdown",
   "metadata": {},
   "source": [
    "3. 编写函数，接受一个字符串，分别统计大写字母、小写字母、数字、其他字符的个数，并以元组的方式返回结果。"
   ]
  },
  {
   "cell_type": "code",
   "execution_count": 154,
   "metadata": {},
   "outputs": [
    {
     "name": "stdout",
     "output_type": "stream",
     "text": [
      "(1, 20, 1, 7)\n"
     ]
    }
   ],
   "source": [
    "def CharCount(string: \"str\"):\n",
    "    upper = 0\n",
    "    lower = 0\n",
    "    digit = 0\n",
    "    for char in string:\n",
    "        if 'A' <= char and char <= 'Z':\n",
    "            upper += 1\n",
    "        elif 'a' <= char and char <= 'z':\n",
    "            lower += 1\n",
    "        elif '0' <= char and char <= '9':\n",
    "            digit += 1\n",
    "    return (upper, lower, digit, len(string) - upper - lower - digit)\n",
    "\n",
    "if __name__ == \"__main__\":  \n",
    "    print(CharCount(\"4 you, A thousand times over.\"))"
   ]
  },
  {
   "cell_type": "markdown",
   "metadata": {},
   "source": [
    "4. 在函数内部可以通过关键字<u>`global`</u>来定义全局变量。\n",
    "\n",
    "5. 如果函数中国呢没有return语句或者return语句不带任何返回值，那么该函数的返回值为<u>`None`</u>\n",
    "\n",
    "6. 调用带有默认值参数的函数时，不能为默认值参数传递任何值，必须使用函数定义时设置的默认值（错）\n",
    "\n",
    "7. 在Python程序中，局部变量会隐藏同名的全局变量吗？请编写代码进行验证。（会）"
   ]
  },
  {
   "cell_type": "code",
   "execution_count": 155,
   "metadata": {},
   "outputs": [
    {
     "name": "stdout",
     "output_type": "stream",
     "text": [
      "itest: 1\n",
      "itest in fntest(): 2\n",
      "itest: 1\n"
     ]
    }
   ],
   "source": [
    "itest = 1\n",
    "\n",
    "def fntest():\n",
    "    itest = 2\n",
    "    print(f\"itest in fntest(): {itest}\")\n",
    "\n",
    "print(f\"itest: {itest}\")\n",
    "fntest()\n",
    "print(f\"itest: {itest}\")"
   ]
  },
  {
   "cell_type": "markdown",
   "metadata": {},
   "source": [
    "8. `lambda`表达式只能用来创建匿名函数，不能为这样的函数起名字（错）\n",
    "\n",
    "9. 编写函数，可以接受任意多个整数并输出其中的最大值和所有整数之和。"
   ]
  },
  {
   "cell_type": "code",
   "execution_count": 157,
   "metadata": {},
   "outputs": [
    {
     "name": "stdout",
     "output_type": "stream",
     "text": [
      "(4, 10)\n"
     ]
    }
   ],
   "source": [
    "def MaxandSum(*nums):\n",
    "    return (max(nums), sum(nums))\n",
    "\n",
    "print(MaxandSum(1, 2, 3, 4))"
   ]
  },
  {
   "cell_type": "markdown",
   "metadata": {},
   "source": [
    "10. 编写函数，模拟内置函数sum()。"
   ]
  },
  {
   "cell_type": "code",
   "execution_count": 168,
   "metadata": {},
   "outputs": [
    {
     "name": "stdout",
     "output_type": "stream",
     "text": [
      "3\n",
      "3\n",
      "0\n"
     ]
    }
   ],
   "source": [
    "def my_sum(*nums):\n",
    "    ans = 0\n",
    "    if len(nums) >= 1:\n",
    "        if type(nums[0]) in (list, tuple):\n",
    "            for num in nums[0]:\n",
    "                ans += num\n",
    "        else:\n",
    "            for num in nums:\n",
    "                ans += num\n",
    "    return ans\n",
    "    # print(type(nums[0]))\n",
    "print(my_sum(1, 2))\n",
    "print(my_sum([1, 2]))\n",
    "print(my_sum([]))"
   ]
  },
  {
   "cell_type": "markdown",
   "metadata": {},
   "source": [
    "11. 包含<u>`yield`</u>语句的函数可以用来创建生成器。\n",
    "\n",
    "12. 编写函数，模拟内置函数sorted()。"
   ]
  },
  {
   "cell_type": "code",
   "execution_count": 176,
   "metadata": {},
   "outputs": [
    {
     "name": "stdout",
     "output_type": "stream",
     "text": [
      "[15, 24, 33, 36, 37, 39, 74, 88, 92, 95, 106, 134, 135, 160, 162, 163, 183, 196, 209, 239, 240, 247, 248, 251, 261, 267, 269, 270, 276, 301, 318, 335, 336, 336, 341, 342, 345, 396, 400, 412, 421, 424, 425, 460, 460, 463, 466, 498, 512, 524, 530, 548, 556, 561, 564, 567, 585, 586, 586, 603, 615, 615, 624, 627, 632, 633, 638, 651, 654, 658, 682, 699, 716, 719, 734, 737, 744, 746, 756, 775, 781, 781, 789, 806, 813, 821, 832, 845, 847, 865, 869, 874, 927, 945, 946, 958, 970, 970, 976, 994]\n",
      "[994, 976, 970, 970, 958, 946, 945, 927, 874, 869, 865, 847, 845, 832, 821, 813, 806, 789, 781, 781, 775, 756, 746, 744, 737, 734, 719, 716, 699, 682, 658, 654, 651, 638, 633, 632, 627, 624, 615, 615, 603, 586, 586, 585, 567, 564, 561, 556, 548, 530, 524, 512, 498, 466, 463, 460, 460, 425, 424, 421, 412, 396, 345, 342, 341, 336, 336, 335, 318, 301, 276, 270, 269, 267, 261, 251, 248, 247, 240, 239, 209, 196, 183, 163, 162, 160, 135, 134, 106, 95, 92, 88, 74, 39, 37, 36, 33, 24, 15]\n"
     ]
    }
   ],
   "source": [
    "from random import randint\n",
    "\n",
    "def my_sort(data, reverse=True):\n",
    "    if len(data) >= 2:\n",
    "        mid = data[len(data)//2]\n",
    "        left, right = [], []\n",
    "        data.remove(mid)\n",
    "        for num in data:\n",
    "            if (num >= mid) == reverse:\n",
    "                right.append(num)\n",
    "            else: \n",
    "                left.append(num)\n",
    "        return my_sort(left, reverse) + [mid] + my_sort(right, reverse)\n",
    "    else:        \n",
    "        return data\n",
    "\n",
    "array = [randint(1, 1000) for i in range(100)]\n",
    "print(my_sort(array))\n",
    "print(my_sort(array, False))\n"
   ]
  },
  {
   "cell_type": "markdown",
   "metadata": {},
   "source": [
    "## 第六章\n",
    "\n",
    "1. 继承6.5节例6-2中的Person类生成Student类，编写新的函数用来设置学生专业，然后生成该类对象并显示信息。"
   ]
  },
  {
   "cell_type": "code",
   "execution_count": 179,
   "metadata": {},
   "outputs": [
    {
     "name": "stdout",
     "output_type": "stream",
     "text": [
      "Name: Milin\n",
      "Age: 20\n",
      "Sex: man\n",
      "Profession: Computer Science\n"
     ]
    }
   ],
   "source": [
    "class Person:\n",
    "    def __init__(self, name='', age=20, sex='man'):\n",
    "        self.setName(name)\n",
    "        self.setAge(age)\n",
    "        self.setSex(sex)\n",
    "    \n",
    "    def setName(self, name: str):\n",
    "        if not isinstance(name, str):\n",
    "            print('name must be string.')\n",
    "            return\n",
    "        self.__name = name\n",
    "\n",
    "    def setAge(self, age):\n",
    "        if not isinstance(age, int):\n",
    "            print('age must be integer.')\n",
    "            return\n",
    "        self.__age = age\n",
    "\n",
    "    def setSex(self, sex: str):\n",
    "        if sex != 'man' and sex != 'woman':\n",
    "            print('sex must be \"man\" or \"woman\".')\n",
    "            return\n",
    "        self.__sex = sex\n",
    "\n",
    "    def show(self):\n",
    "        print('Name:', self.__name)\n",
    "        print('Age:', self.__age)\n",
    "        print('Sex:', self.__sex)\n",
    "\n",
    "class Student(Person):\n",
    "    def __init__(self, name = \"\", age = 20, sex = \"man\", profession = \"\"):\n",
    "        super().__init__(name, age, sex)\n",
    "        self.setProfession(profession)\n",
    "\n",
    "    def setProfession(self, profession):\n",
    "        if not isinstance(profession, str):\n",
    "            print(\"profession must be a string\")\n",
    "            return\n",
    "        self.__profession = profession\n",
    "    \n",
    "    def show(self):\n",
    "        super().show()\n",
    "        print('Profession:', self.__profession)\n",
    "\n",
    "student = Student(name = \"Milin\", age = 20, sex = \"man\", profession = \"Computer Science\")\n",
    "student.show()"
   ]
  },
  {
   "cell_type": "markdown",
   "metadata": {},
   "source": [
    "2. 设计一个三维向量类，并实现向量的加法、减法以及向量与标量的乘法和除法运算。"
   ]
  },
  {
   "cell_type": "code",
   "execution_count": 183,
   "metadata": {},
   "outputs": [
    {
     "name": "stdout",
     "output_type": "stream",
     "text": [
      "(5, 7, 9)\n",
      "(-3, -3, -3)\n",
      "(3, 6, 9)\n",
      "(0.5, 1.0, 1.5)\n"
     ]
    }
   ],
   "source": [
    "class Vector3D:\n",
    "    def __init__(self, x, y, z):\n",
    "        self.setX(x)\n",
    "        self.setY(y)\n",
    "        self.setZ(z)\n",
    "\n",
    "    def setX(self, x):\n",
    "        if not isinstance(x, int) and not isinstance(x, float):\n",
    "            print('x must be number.')\n",
    "            return\n",
    "        self.__x = x\n",
    "\n",
    "    def setY(self, y):\n",
    "        if not isinstance(y, int) and not isinstance(y, float):\n",
    "            print('y must be number.')\n",
    "            return\n",
    "        self.__y = y\n",
    "\n",
    "    def setZ(self, z):\n",
    "        if not isinstance(z, int) and not isinstance(z, float):\n",
    "            print('z must be number.')\n",
    "            return\n",
    "        self.__z = z\n",
    "\n",
    "    def __add__(self, other):\n",
    "        return Vector3D(self.__x + other.__x, self.__y + other.__y, self.__z + other.__z)\n",
    "    \n",
    "    def __sub__(self, other):\n",
    "        return Vector3D(self.__x - other.__x, self.__y - other.__y, self.__z - other.__z)\n",
    "    \n",
    "    def __mul__(self, other):\n",
    "        return Vector3D(self.__x * other, self.__y * other, self.__z * other)\n",
    "    \n",
    "    def __truediv__(self, other):\n",
    "        return Vector3D(self.__x / other, self.__y / other, self.__z / other)\n",
    "    \n",
    "    def __floordiv__(self, other):\n",
    "        return Vector3D(self.__x // other, self.__y // other, self.__z // other)\n",
    "    \n",
    "    def __str__(self):\n",
    "        return f'({self.__x}, {self.__y}, {self.__z})'\n",
    "    \n",
    "x = Vector3D(1, 2, 3)\n",
    "y = Vector3D(4, 5, 6)\n",
    "\n",
    "print(x + y)\n",
    "print(x - y)\n",
    "print(x * 3)\n",
    "print(x / 2)"
   ]
  },
  {
   "cell_type": "markdown",
   "metadata": {},
   "source": [
    "3. 面向对象程序设计的三要素分别为<u>封装</u>、<u>继承</u>和<u>多态</u>\n",
    "\n",
    "4. 简单解释Python中以下划线开头的变量名特点。\n",
    "\n",
    "    1. 特殊方法：变量名前后都为双下划线，用于特殊用途，如`__init__`构造函数，`__del__`析构函数，`__add__`加法运算符等\n",
    "    \n",
    "    2. 私有成员：双下划线前缀开头的变量为私有成员，解释器将重写属性名称为`_(classname)__(membername)`\n",
    "\n",
    "    3. 保护变量：单下划线前缀开头的变量为保护变量，不能由`from module import *`导入，只有类对象和子类对象能够访问这些变量\n",
    "\n",
    "5. 与运算符“`**`”对应的特殊方法名为<u>`__pow__`</u>，与运算符“`//`”对应的特殊方法名为<u>`__floordiv__`</u>\n",
    "\n",
    "6. 假设`a`为类`A`的对象且包含一个私有数据成员“`__value`”，那么在类的外部通过对象`a`直接将私有数据成员“`__value`”的值设置为3的语句可以写作<u>`a._A__value = 3`</u>"
   ]
  }
 ],
 "metadata": {
  "kernelspec": {
   "display_name": "Python 3 (ipykernel)",
   "language": "python",
   "name": "python3"
  },
  "language_info": {
   "codemirror_mode": {
    "name": "ipython",
    "version": 3
   },
   "file_extension": ".py",
   "mimetype": "text/x-python",
   "name": "python",
   "nbconvert_exporter": "python",
   "pygments_lexer": "ipython3",
   "version": "3.9.13"
  }
 },
 "nbformat": 4,
 "nbformat_minor": 2
}
