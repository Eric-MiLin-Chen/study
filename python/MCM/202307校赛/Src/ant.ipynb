{
 "cells": [
  {
   "cell_type": "code",
   "execution_count": 1,
   "metadata": {},
   "outputs": [
    {
     "name": "stderr",
     "output_type": "stream",
     "text": [
      "/var/folders/t9/qn1zyq0104v7hpd8_n0xzbsh0000gn/T/ipykernel_68649/1980376280.py:61: RuntimeWarning: divide by zero encountered in double_scalars\n",
      "  pheromone_matrix[i, j] += q / ant_path_lengths[ant]\n",
      "/var/folders/t9/qn1zyq0104v7hpd8_n0xzbsh0000gn/T/ipykernel_68649/1980376280.py:45: RuntimeWarning: invalid value encountered in divide\n",
      "  probabilities /= probabilities.sum()\n"
     ]
    },
    {
     "ename": "ValueError",
     "evalue": "probabilities contain NaN",
     "output_type": "error",
     "traceback": [
      "\u001b[0;31m---------------------------------------------------------------------------\u001b[0m",
      "\u001b[0;31mValueError\u001b[0m                                Traceback (most recent call last)",
      "Cell \u001b[0;32mIn[1], line 46\u001b[0m\n\u001b[1;32m     43\u001b[0m     probabilities[i] \u001b[39m=\u001b[39m (pheromone_matrix[current_station, station] \u001b[39m*\u001b[39m\u001b[39m*\u001b[39m alpha) \u001b[39m*\u001b[39m (heuristic_value(current_station, station) \u001b[39m*\u001b[39m\u001b[39m*\u001b[39m beta)\n\u001b[1;32m     45\u001b[0m probabilities \u001b[39m/\u001b[39m\u001b[39m=\u001b[39m probabilities\u001b[39m.\u001b[39msum()\n\u001b[0;32m---> 46\u001b[0m next_station \u001b[39m=\u001b[39m np\u001b[39m.\u001b[39;49mrandom\u001b[39m.\u001b[39;49mchoice(unvisited_stations, p\u001b[39m=\u001b[39;49mprobabilities)\n\u001b[1;32m     47\u001b[0m ant_positions[ant] \u001b[39m=\u001b[39m next_station\n\u001b[1;32m     48\u001b[0m ant_paths[ant, step \u001b[39m+\u001b[39m \u001b[39m1\u001b[39m] \u001b[39m=\u001b[39m next_station\n",
      "File \u001b[0;32mmtrand.pyx:935\u001b[0m, in \u001b[0;36mnumpy.random.mtrand.RandomState.choice\u001b[0;34m()\u001b[0m\n",
      "\u001b[0;31mValueError\u001b[0m: probabilities contain NaN"
     ]
    }
   ],
   "source": [
    "import numpy as np\n",
    "\n",
    "# 共享单车站点之间的距离矩阵，这里简化为一个随机生成的矩阵\n",
    "# 在实际应用中，您需要根据实际数据来构建距离矩阵\n",
    "num_stations = 5\n",
    "distance_matrix = np.random.randint(1, 10, size=(num_stations, num_stations))\n",
    "np.fill_diagonal(distance_matrix, 0)  # 确保站点到自身的距离为0\n",
    "\n",
    "# 蚂蚁数量和迭代次数\n",
    "num_ants = 10\n",
    "num_iterations = 100\n",
    "\n",
    "# 蚂蚁的初始位置\n",
    "ant_positions = np.zeros(num_ants, dtype=int)\n",
    "\n",
    "# 蚂蚁的路径和对应的路径长度\n",
    "ant_paths = np.zeros((num_ants, num_stations), dtype=int)\n",
    "ant_path_lengths = np.zeros(num_ants)\n",
    "\n",
    "# 每只蚂蚁的信息素轨迹\n",
    "pheromone_matrix = np.ones((num_stations, num_stations))\n",
    "\n",
    "# 蚁群算法参数\n",
    "alpha = 1.0  # 信息素重要程度\n",
    "beta = 2.0  # 启发式信息重要程度\n",
    "evaporation = 0.5  # 信息素的蒸发率\n",
    "q = 100  # 信息素增量常数\n",
    "\n",
    "# 定义启发函数，这里简化为单纯使用距离的倒数作为启发值\n",
    "def heuristic_value(i, j):\n",
    "    return 1.0 / (distance_matrix[i, j] + 0.0001)\n",
    "\n",
    "# 蚁群算法主循环\n",
    "for iteration in range(num_iterations):\n",
    "    for ant in range(num_ants):\n",
    "        # 每只蚂蚁的路径构建过程\n",
    "        for step in range(num_stations - 1):\n",
    "            current_station = ant_positions[ant]\n",
    "            unvisited_stations = np.where(ant_paths[ant] == 0)[0]\n",
    "            probabilities = np.zeros(len(unvisited_stations))\n",
    "\n",
    "            for i, station in enumerate(unvisited_stations):\n",
    "                probabilities[i] = (pheromone_matrix[current_station, station] ** alpha) * (heuristic_value(current_station, station) ** beta)\n",
    "\n",
    "            probabilities /= probabilities.sum()\n",
    "            next_station = np.random.choice(unvisited_stations, p=probabilities)\n",
    "            ant_positions[ant] = next_station\n",
    "            ant_paths[ant, step + 1] = next_station\n",
    "            ant_path_lengths[ant] += distance_matrix[current_station, next_station]\n",
    "\n",
    "        # 添加回到起始站点的路径长度\n",
    "        ant_path_lengths[ant] += distance_matrix[ant_paths[ant, -1], ant_paths[ant, 0]]\n",
    "\n",
    "    # 更新信息素矩阵\n",
    "    pheromone_matrix *= evaporation\n",
    "\n",
    "    for ant in range(num_ants):\n",
    "        for step in range(num_stations - 1):\n",
    "            i = ant_paths[ant, step]\n",
    "            j = ant_paths[ant, step + 1]\n",
    "            pheromone_matrix[i, j] += q / ant_path_lengths[ant]\n",
    "\n",
    "# 找到最优路径和最优路径长度\n",
    "best_ant_index = np.argmin(ant_path_lengths)\n",
    "best_path = ant_paths[best_ant_index]\n",
    "best_path_length = ant_path_lengths[best_ant_index]\n",
    "\n",
    "print(\"Best path found: \", best_path)\n",
    "print(\"Best path length: \", best_path_length)\n"
   ]
  }
 ],
 "metadata": {
  "kernelspec": {
   "display_name": "base",
   "language": "python",
   "name": "python3"
  },
  "language_info": {
   "codemirror_mode": {
    "name": "ipython",
    "version": 3
   },
   "file_extension": ".py",
   "mimetype": "text/x-python",
   "name": "python",
   "nbconvert_exporter": "python",
   "pygments_lexer": "ipython3",
   "version": "3.9.13"
  },
  "orig_nbformat": 4
 },
 "nbformat": 4,
 "nbformat_minor": 2
}
